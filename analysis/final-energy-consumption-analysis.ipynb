{
 "cells": [
  {
   "cell_type": "code",
   "execution_count": null,
   "metadata": {},
   "outputs": [
    {
     "data": {
      "text/html": [
       "<div>\n",
       "<style scoped>\n",
       "    .dataframe tbody tr th:only-of-type {\n",
       "        vertical-align: middle;\n",
       "    }\n",
       "\n",
       "    .dataframe tbody tr th {\n",
       "        vertical-align: top;\n",
       "    }\n",
       "\n",
       "    .dataframe thead th {\n",
       "        text-align: right;\n",
       "    }\n",
       "</style>\n",
       "<table border=\"1\" class=\"dataframe\">\n",
       "  <thead>\n",
       "    <tr style=\"text-align: right;\">\n",
       "      <th></th>\n",
       "      <th>country</th>\n",
       "      <th>year</th>\n",
       "      <th>iso_code</th>\n",
       "      <th>value</th>\n",
       "    </tr>\n",
       "  </thead>\n",
       "  <tbody>\n",
       "    <tr>\n",
       "      <th>0</th>\n",
       "      <td>Albania</td>\n",
       "      <td>2019</td>\n",
       "      <td>AL</td>\n",
       "      <td>38.042</td>\n",
       "    </tr>\n",
       "    <tr>\n",
       "      <th>1</th>\n",
       "      <td>Albania</td>\n",
       "      <td>2020</td>\n",
       "      <td>AL</td>\n",
       "      <td>45.015</td>\n",
       "    </tr>\n",
       "    <tr>\n",
       "      <th>2</th>\n",
       "      <td>Albania</td>\n",
       "      <td>2021</td>\n",
       "      <td>AL</td>\n",
       "      <td>41.389</td>\n",
       "    </tr>\n",
       "    <tr>\n",
       "      <th>3</th>\n",
       "      <td>Albania</td>\n",
       "      <td>2022</td>\n",
       "      <td>AL</td>\n",
       "      <td>44.076</td>\n",
       "    </tr>\n",
       "    <tr>\n",
       "      <th>4</th>\n",
       "      <td>Albania</td>\n",
       "      <td>2023</td>\n",
       "      <td>AL</td>\n",
       "      <td>46.620</td>\n",
       "    </tr>\n",
       "    <tr>\n",
       "      <th>...</th>\n",
       "      <td>...</td>\n",
       "      <td>...</td>\n",
       "      <td>...</td>\n",
       "      <td>...</td>\n",
       "    </tr>\n",
       "    <tr>\n",
       "      <th>164</th>\n",
       "      <td>Sweden</td>\n",
       "      <td>2023</td>\n",
       "      <td>SE</td>\n",
       "      <td>66.393</td>\n",
       "    </tr>\n",
       "    <tr>\n",
       "      <th>163</th>\n",
       "      <td>Sweden</td>\n",
       "      <td>2022</td>\n",
       "      <td>SE</td>\n",
       "      <td>66.287</td>\n",
       "    </tr>\n",
       "    <tr>\n",
       "      <th>162</th>\n",
       "      <td>Sweden</td>\n",
       "      <td>2021</td>\n",
       "      <td>SE</td>\n",
       "      <td>62.527</td>\n",
       "    </tr>\n",
       "    <tr>\n",
       "      <th>161</th>\n",
       "      <td>Sweden</td>\n",
       "      <td>2020</td>\n",
       "      <td>SE</td>\n",
       "      <td>60.124</td>\n",
       "    </tr>\n",
       "    <tr>\n",
       "      <th>160</th>\n",
       "      <td>Sweden</td>\n",
       "      <td>2019</td>\n",
       "      <td>SE</td>\n",
       "      <td>55.785</td>\n",
       "    </tr>\n",
       "  </tbody>\n",
       "</table>\n",
       "<p>179 rows × 4 columns</p>\n",
       "</div>"
      ],
      "text/plain": [
       "     country  year iso_code   value\n",
       "0    Albania  2019       AL  38.042\n",
       "1    Albania  2020       AL  45.015\n",
       "2    Albania  2021       AL  41.389\n",
       "3    Albania  2022       AL  44.076\n",
       "4    Albania  2023       AL  46.620\n",
       "..       ...   ...      ...     ...\n",
       "164   Sweden  2023       SE  66.393\n",
       "163   Sweden  2022       SE  66.287\n",
       "162   Sweden  2021       SE  62.527\n",
       "161   Sweden  2020       SE  60.124\n",
       "160   Sweden  2019       SE  55.785\n",
       "\n",
       "[179 rows x 4 columns]"
      ]
     },
     "execution_count": 71,
     "metadata": {},
     "output_type": "execute_result"
    }
   ],
   "source": [
    "import pandas as pd\n",
    "import seaborn as sns\n",
    "import matplotlib.pyplot as plt\n",
    "\n",
    "df = pd.read_csv('../data_final/final_estat_data.csv')\n",
    "\n",
    "# Sort\n",
    "\n",
    "filtered_df = df.sort_values(by='country')\n",
    "filtered_df"
   ]
  },
  {
   "cell_type": "code",
   "execution_count": 72,
   "metadata": {},
   "outputs": [
    {
     "name": "stdout",
     "output_type": "stream",
     "text": [
      "Data shape: 179 rows, 4 columns\n"
     ]
    }
   ],
   "source": [
    "print(f'Data shape: {filtered_df.shape[0]} rows, {filtered_df.shape[1]} columns')"
   ]
  },
  {
   "cell_type": "code",
   "execution_count": 73,
   "metadata": {},
   "outputs": [
    {
     "name": "stdout",
     "output_type": "stream",
     "text": [
      "There are 37 countries in the dataset\n",
      "Countries: ['Albania' 'Austria' 'Belgium' 'Bosnia and Herzegovina' 'Bulgaria'\n",
      " 'Croatia' 'Cyprus' 'Czech Republic' 'Denmark' 'Estonia'\n",
      " 'Euro area – 20 countries (from 2023)'\n",
      " 'European Union - 27 countries (from 2020)' 'Finland' 'France' 'Germany'\n",
      " 'Greece' 'Hungary' 'Iceland' 'Ireland' 'Italy' 'Kosovo*' 'Latvia'\n",
      " 'Lithuania' 'Luxembourg' 'Malta' 'Montenegro' 'Netherlands'\n",
      " 'North Macedonia' 'Norway' 'Poland' 'Portugal' 'Romania' 'Serbia'\n",
      " 'Slovakia' 'Slovenia' 'Spain' 'Sweden']\n"
     ]
    }
   ],
   "source": [
    "# Get the distinct countries\n",
    "distinct_countries_count = filtered_df['country'].nunique()\n",
    "distinct_countries = filtered_df['country'].unique()\n",
    "\n",
    "# Display the result\n",
    "print(f'There are {distinct_countries_count} countries in the dataset')\n",
    "print(f'Countries: {distinct_countries}')\n",
    "\n"
   ]
  },
  {
   "cell_type": "code",
   "execution_count": 74,
   "metadata": {},
   "outputs": [
    {
     "data": {
      "text/plain": [
       "country     0\n",
       "year        0\n",
       "iso_code    0\n",
       "value       0\n",
       "dtype: int64"
      ]
     },
     "execution_count": 74,
     "metadata": {},
     "output_type": "execute_result"
    },
    {
     "data": {
      "image/png": "[encoded data removed]",
      "text/plain": [
       "<Figure size 640x480 with 1 Axes>"
      ]
     },
     "metadata": {},
     "output_type": "display_data"
    }
   ],
   "source": [
    "# Display null values\n",
    "sns.heatmap(filtered_df.isnull(), yticklabels = False, cbar = False, cmap = 'rainbow')\n",
    "\n",
    "# Count null values\n",
    "filtered_df.isnull().sum()"
   ]
  },
  {
   "cell_type": "code",
   "execution_count": 75,
   "metadata": {},
   "outputs": [
    {
     "data": {
      "text/html": [
       "<div>\n",
       "<style scoped>\n",
       "    .dataframe tbody tr th:only-of-type {\n",
       "        vertical-align: middle;\n",
       "    }\n",
       "\n",
       "    .dataframe tbody tr th {\n",
       "        vertical-align: top;\n",
       "    }\n",
       "\n",
       "    .dataframe thead th {\n",
       "        text-align: right;\n",
       "    }\n",
       "</style>\n",
       "<table border=\"1\" class=\"dataframe\">\n",
       "  <thead>\n",
       "    <tr style=\"text-align: right;\">\n",
       "      <th></th>\n",
       "      <th>country</th>\n",
       "      <th>year</th>\n",
       "      <th>iso_code</th>\n",
       "      <th>value</th>\n",
       "    </tr>\n",
       "  </thead>\n",
       "  <tbody>\n",
       "    <tr>\n",
       "      <th>0</th>\n",
       "      <td>Albania</td>\n",
       "      <td>2019</td>\n",
       "      <td>AL</td>\n",
       "      <td>38.042</td>\n",
       "    </tr>\n",
       "    <tr>\n",
       "      <th>1</th>\n",
       "      <td>Albania</td>\n",
       "      <td>2020</td>\n",
       "      <td>AL</td>\n",
       "      <td>45.015</td>\n",
       "    </tr>\n",
       "    <tr>\n",
       "      <th>2</th>\n",
       "      <td>Albania</td>\n",
       "      <td>2021</td>\n",
       "      <td>AL</td>\n",
       "      <td>41.389</td>\n",
       "    </tr>\n",
       "    <tr>\n",
       "      <th>3</th>\n",
       "      <td>Albania</td>\n",
       "      <td>2022</td>\n",
       "      <td>AL</td>\n",
       "      <td>44.076</td>\n",
       "    </tr>\n",
       "    <tr>\n",
       "      <th>4</th>\n",
       "      <td>Albania</td>\n",
       "      <td>2023</td>\n",
       "      <td>AL</td>\n",
       "      <td>46.620</td>\n",
       "    </tr>\n",
       "    <tr>\n",
       "      <th>...</th>\n",
       "      <td>...</td>\n",
       "      <td>...</td>\n",
       "      <td>...</td>\n",
       "      <td>...</td>\n",
       "    </tr>\n",
       "    <tr>\n",
       "      <th>164</th>\n",
       "      <td>Sweden</td>\n",
       "      <td>2023</td>\n",
       "      <td>SE</td>\n",
       "      <td>66.393</td>\n",
       "    </tr>\n",
       "    <tr>\n",
       "      <th>163</th>\n",
       "      <td>Sweden</td>\n",
       "      <td>2022</td>\n",
       "      <td>SE</td>\n",
       "      <td>66.287</td>\n",
       "    </tr>\n",
       "    <tr>\n",
       "      <th>162</th>\n",
       "      <td>Sweden</td>\n",
       "      <td>2021</td>\n",
       "      <td>SE</td>\n",
       "      <td>62.527</td>\n",
       "    </tr>\n",
       "    <tr>\n",
       "      <th>161</th>\n",
       "      <td>Sweden</td>\n",
       "      <td>2020</td>\n",
       "      <td>SE</td>\n",
       "      <td>60.124</td>\n",
       "    </tr>\n",
       "    <tr>\n",
       "      <th>160</th>\n",
       "      <td>Sweden</td>\n",
       "      <td>2019</td>\n",
       "      <td>SE</td>\n",
       "      <td>55.785</td>\n",
       "    </tr>\n",
       "  </tbody>\n",
       "</table>\n",
       "<p>171 rows × 4 columns</p>\n",
       "</div>"
      ],
      "text/plain": [
       "     country  year iso_code   value\n",
       "0    Albania  2019       AL  38.042\n",
       "1    Albania  2020       AL  45.015\n",
       "2    Albania  2021       AL  41.389\n",
       "3    Albania  2022       AL  44.076\n",
       "4    Albania  2023       AL  46.620\n",
       "..       ...   ...      ...     ...\n",
       "164   Sweden  2023       SE  66.393\n",
       "163   Sweden  2022       SE  66.287\n",
       "162   Sweden  2021       SE  62.527\n",
       "161   Sweden  2020       SE  60.124\n",
       "160   Sweden  2019       SE  55.785\n",
       "\n",
       "[171 rows x 4 columns]"
      ]
     },
     "execution_count": 75,
     "metadata": {},
     "output_type": "execute_result"
    }
   ],
   "source": [
    "# Drop 'not countries'\n",
    "rows_to_drop = ['Euro area – 20 countries (from 2023)', 'European Union - 27 countries (from 2020)']\n",
    "\n",
    "filtered_df = filtered_df[~filtered_df['country'].isin(rows_to_drop)]\n",
    "filtered_df"
   ]
  },
  {
   "cell_type": "code",
   "execution_count": 77,
   "metadata": {},
   "outputs": [
    {
     "data": {
      "text/html": [
       "<div>\n",
       "<style scoped>\n",
       "    .dataframe tbody tr th:only-of-type {\n",
       "        vertical-align: middle;\n",
       "    }\n",
       "\n",
       "    .dataframe tbody tr th {\n",
       "        vertical-align: top;\n",
       "    }\n",
       "\n",
       "    .dataframe thead th {\n",
       "        text-align: right;\n",
       "    }\n",
       "</style>\n",
       "<table border=\"1\" class=\"dataframe\">\n",
       "  <thead>\n",
       "    <tr style=\"text-align: right;\">\n",
       "      <th></th>\n",
       "      <th>year</th>\n",
       "      <th>value</th>\n",
       "    </tr>\n",
       "  </thead>\n",
       "  <tbody>\n",
       "    <tr>\n",
       "      <th>count</th>\n",
       "      <td>171.000000</td>\n",
       "      <td>171.000000</td>\n",
       "    </tr>\n",
       "    <tr>\n",
       "      <th>mean</th>\n",
       "      <td>2020.959064</td>\n",
       "      <td>28.667760</td>\n",
       "    </tr>\n",
       "    <tr>\n",
       "      <th>std</th>\n",
       "      <td>1.407362</td>\n",
       "      <td>16.547847</td>\n",
       "    </tr>\n",
       "    <tr>\n",
       "      <th>min</th>\n",
       "      <td>2019.000000</td>\n",
       "      <td>7.046000</td>\n",
       "    </tr>\n",
       "    <tr>\n",
       "      <th>25%</th>\n",
       "      <td>2020.000000</td>\n",
       "      <td>17.382000</td>\n",
       "    </tr>\n",
       "    <tr>\n",
       "      <th>50%</th>\n",
       "      <td>2021.000000</td>\n",
       "      <td>22.671000</td>\n",
       "    </tr>\n",
       "    <tr>\n",
       "      <th>75%</th>\n",
       "      <td>2022.000000</td>\n",
       "      <td>37.181000</td>\n",
       "    </tr>\n",
       "    <tr>\n",
       "      <th>max</th>\n",
       "      <td>2023.000000</td>\n",
       "      <td>83.725000</td>\n",
       "    </tr>\n",
       "  </tbody>\n",
       "</table>\n",
       "</div>"
      ],
      "text/plain": [
       "              year       value\n",
       "count   171.000000  171.000000\n",
       "mean   2020.959064   28.667760\n",
       "std       1.407362   16.547847\n",
       "min    2019.000000    7.046000\n",
       "25%    2020.000000   17.382000\n",
       "50%    2021.000000   22.671000\n",
       "75%    2022.000000   37.181000\n",
       "max    2023.000000   83.725000"
      ]
     },
     "execution_count": 77,
     "metadata": {},
     "output_type": "execute_result"
    }
   ],
   "source": [
    "\n",
    "filtered_df.describe()"
   ]
  },
  {
   "cell_type": "code",
   "execution_count": 78,
   "metadata": {},
   "outputs": [
    {
     "name": "stdout",
     "output_type": "stream",
     "text": [
      "There are 35 countries in the dataset\n",
      "Countries: ['Albania' 'Austria' 'Belgium' 'Bosnia and Herzegovina' 'Bulgaria'\n",
      " 'Croatia' 'Cyprus' 'Czech Republic' 'Denmark' 'Estonia' 'Finland'\n",
      " 'France' 'Germany' 'Greece' 'Hungary' 'Iceland' 'Ireland' 'Italy'\n",
      " 'Kosovo*' 'Latvia' 'Lithuania' 'Luxembourg' 'Malta' 'Montenegro'\n",
      " 'Netherlands' 'North Macedonia' 'Norway' 'Poland' 'Portugal' 'Romania'\n",
      " 'Serbia' 'Slovakia' 'Slovenia' 'Spain' 'Sweden']\n"
     ]
    }
   ],
   "source": [
    "# Get the distinct countries\n",
    "distinct_countries_count = filtered_df['country'].nunique()\n",
    "distinct_countries = filtered_df['country'].unique()\n",
    "\n",
    "# Display the result\n",
    "print(f'There are {distinct_countries_count} countries in the dataset')\n",
    "print(f'Countries: {distinct_countries}')"
   ]
  },
  {
   "cell_type": "code",
   "execution_count": 80,
   "metadata": {},
   "outputs": [
    {
     "data": {
      "image/png": "[encoded data removed]",
      "text/plain": [
       "<Figure size 640x480 with 1 Axes>"
      ]
     },
     "metadata": {},
     "output_type": "display_data"
    }
   ],
   "source": [
    "# TREND ANALYSIS OVER TIME - FINAL ENERGY CONSUPMTION OVER THE YEARS\n",
    "\n",
    "yearly_fec = filtered_df.groupby('year')['value'].mean()\n",
    "plt.plot(yearly_fec.index, yearly_fec.values, marker='o')\n",
    "plt.xticks([2019,2020,2021,2022,2023])\n",
    "plt.title('Share of renewable energy consumption Europe (2019 - 2023)')\n",
    "plt.xlabel('Year')\n",
    "plt.ylabel('Energy consumption (%)')\n",
    "plt.show()"
   ]
  },
  {
   "cell_type": "code",
   "execution_count": 63,
   "metadata": {},
   "outputs": [
    {
     "name": "stdout",
     "output_type": "stream",
     "text": [
      "       country  value\n",
      "369    Germany  187.0\n",
      "356      Malta  155.3\n",
      "376     France  130.0\n",
      "358     Poland  120.9\n",
      "353  Lithuania  113.9\n",
      "380      Italy  108.7\n",
      "339     Cyprus  102.2\n",
      "360    Romania   98.2\n",
      "349    Croatia   98.1\n",
      "338   Bulgaria   98.1\n"
     ]
    }
   ],
   "source": [
    "# TOP COUNTRIES WITH THE MOST % OF RENEWABLE ENERGY CONSUMPTION IN 2023\n",
    "\n",
    "data_2023 = filtered_df_cleaned[filtered_df_cleaned['year'] == 2023]\n",
    "\n",
    "top_countries = data_2023[['country', 'value']].sort_values(by='value', ascending=False)\n",
    "\n",
    "print(top_countries.head(10))\n",
    "\n"
   ]
  }
 ],
 "metadata": {
  "kernelspec": {
   "display_name": "Python 3",
   "language": "python",
   "name": "python3"
  },
  "language_info": {
   "codemirror_mode": {
    "name": "ipython",
    "version": 3
   },
   "file_extension": ".py",
   "mimetype": "text/x-python",
   "name": "python",
   "nbconvert_exporter": "python",
   "pygments_lexer": "ipython3",
   "version": "3.12.8"
  }
 },
 "nbformat": 4,
 "nbformat_minor": 2
}
